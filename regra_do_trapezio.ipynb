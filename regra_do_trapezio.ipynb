{
 "cells": [
  {
   "cell_type": "code",
   "execution_count": 17,
   "metadata": {},
   "outputs": [],
   "source": [
    "import sympy as sp"
   ]
  },
  {
   "attachments": {},
   "cell_type": "markdown",
   "metadata": {},
   "source": [
    "### Implementação do método do trápezio\n",
    "\n",
    "#### Explicação do método:\n",
    "\n",
    "A Regra do Trapézio é um método numérico para aproximação de integrais definidas. Ela funciona ao aproximar a curva da função integrada por uma série de trapézios, calculando a área total como a soma das áreas desses trapézios. O método utiliza a fórmula:\n",
    "\n",
    "- A fórmula da Regra do Trápezio para aproximação de uma integral é: $$\\int_a^b f(x) ,dx \\approx \\frac{(b-a)}{2n} [f(a) + 2f(a+h) + 2f(a+2h) + ... + 2f(b-h) + f(b)]$$\n",
    "- Onde $$ h = \\frac{b-a}{n} $$ nos intervalos $a$ e $b$ que são os limites de integração e $n$ é o número de subintervalos.\n",
    "\n",
    "#### Explicação da implementação\n",
    "\n",
    "- Na implementação do código, a largura do subintervalo é calculada a partir dos valores dos limites e o número de iterações. A soma inicial é dada pelos valores da função nos limites do intervalo. Depois, a soma recebe os valores intermediários da função, ponderados por um fator de 2, pois cada ponto intermediário é compartilhado por dois trapézios. Por fim, a área total dos trapézios é calculada multiplicando-se a soma pelo valor da largura do subintervalo e dividindo-se por 2."
   ]
  },
  {
   "cell_type": "code",
   "execution_count": 18,
   "metadata": {},
   "outputs": [],
   "source": [
    "def trapezio(funcao_fx, intervalo_1, intervalo_2, iteracoes):\n",
    "    \n",
    "    # Calculado o valor de h, que é a largura de cada subintervalo do intervalo de integração.\n",
    "    h = (intervalo_2 - intervalo_1) / iteracoes\n",
    "    \n",
    "    # Soma recebe o valor da função funcao_fx nos extremos do intervalo de integração.\n",
    "    soma = funcao_fx(intervalo_1) + funcao_fx(intervalo_2)\n",
    "    \n",
    "    \n",
    "    # Aqui, é feita a soma dos valores da função funcao_fx nos pontos intermediários do intervalo de integração, ponderados por um fator de 2, \n",
    "    # pois esses pontos são contabilizados duas vezes no cálculo da área do trapézio.\n",
    "    for i in range(1, iteracoes):\n",
    "        soma += 2 * funcao_fx(intervalo_1 + i * h)\n",
    "        \n",
    "    # Área total dos trapézios é calculada multiplicando-se a soma pelo valor de h e dividindo-se por 2, já que cada trapézio tem uma base menor \n",
    "    # de h e uma base maior que é a soma das duas avaliações da função em cada ponto intermediário.\n",
    "    integral = h * soma / 2\n",
    "    \n",
    "    return integral"
   ]
  },
  {
   "attachments": {},
   "cell_type": "markdown",
   "metadata": {},
   "source": [
    "### Sympify\n",
    "\n",
    "O sympify é uma função da biblioteca SymPy que converte uma string contendo uma expressão matemática em uma expressão matemática SymPy. Isso significa que a expressão passa a ser manipulável como um objeto SymPy e não como uma simples string."
   ]
  },
  {
   "cell_type": "code",
   "execution_count": 19,
   "metadata": {},
   "outputs": [],
   "source": [
    "# Lê a função do usuário e transforma em expressão matemática para que possa ser manipulada na função\n",
    "expr_str = input(\"Digite a expressão matemática da função: \")\n",
    "expr = sp.sympify(expr_str)"
   ]
  },
  {
   "attachments": {},
   "cell_type": "markdown",
   "metadata": {},
   "source": [
    "### Input's do método\n",
    "\n",
    "- Os dois intervalos iniciais devem ser dados em sequência, começando do mais baixo até o mais alto. O número de iterações será quantas vezes será divido o método"
   ]
  },
  {
   "cell_type": "code",
   "execution_count": 20,
   "metadata": {},
   "outputs": [],
   "source": [
    "# Define os intervalos e o número de divisões, lendo pelo input\n",
    "intervalo_1 = float(input(\"Determine o primeiro intervalo: \"))\n",
    "intervalo_2 = float(input(\"Determine o segundo intervalo: \"))\n",
    "iteracoes = int(input(\"Determine quantas iterações serão feitas: \"))"
   ]
  },
  {
   "attachments": {},
   "cell_type": "markdown",
   "metadata": {},
   "source": [
    "### Função f(x)\n",
    "\n",
    "- A definição da função é dada aqui, antes de chamar o método de aproximação"
   ]
  },
  {
   "cell_type": "code",
   "execution_count": 21,
   "metadata": {},
   "outputs": [],
   "source": [
    "# Define a função a ser integrada a partir da expressão lida, assim o 'x' não será mais uma string\n",
    "funcao_fx = lambda x: expr.subs('x', x)"
   ]
  },
  {
   "attachments": {},
   "cell_type": "markdown",
   "metadata": {},
   "source": [
    "### Aproximação\n",
    "\n",
    "- A integral aproximada é feita na função, passa-se os argumentos da própria função f(x), seus intervalos e quantas iterações serão executadas"
   ]
  },
  {
   "cell_type": "code",
   "execution_count": 22,
   "metadata": {},
   "outputs": [],
   "source": [
    "# Calcula a aproximação da integral usando a regra do trapézio\n",
    "integral = trapezio(funcao_fx, intervalo_1, intervalo_2, iteracoes)"
   ]
  },
  {
   "attachments": {},
   "cell_type": "markdown",
   "metadata": {},
   "source": [
    "### Print's\n",
    "\n",
    "- Para o usuario, será mostrado o polinômio de entrada com seus intervalos e suas iterações. Posteriormente será mostrada quanto foi a aproximação mas tambem uma informação extra, sendo o cáculo da integral para depois vermos a diferença que deu do método para a integral exata"
   ]
  },
  {
   "cell_type": "code",
   "execution_count": 23,
   "metadata": {},
   "outputs": [
    {
     "name": "stdout",
     "output_type": "stream",
     "text": [
      "O polinômio lido é: \n"
     ]
    },
    {
     "data": {
      "text/latex": [
       "$\\displaystyle x^{2} + \\frac{1}{\\sqrt{x}}$"
      ],
      "text/plain": [
       "x**2 + 1/sqrt(x)"
      ]
     },
     "execution_count": 23,
     "metadata": {},
     "output_type": "execute_result"
    }
   ],
   "source": [
    "# Imprime o resultado\n",
    "print(\"O polinômio lido é: \")\n",
    "sp.simplify(expr_str)"
   ]
  },
  {
   "cell_type": "code",
   "execution_count": 24,
   "metadata": {},
   "outputs": [
    {
     "name": "stdout",
     "output_type": "stream",
     "text": [
      "Com intervalos de [2.4, 2.6] com 4 iterações\n"
     ]
    }
   ],
   "source": [
    "print(f\"Com intervalos de [{intervalo_1}, {intervalo_2}] com {iteracoes} iterações\")"
   ]
  },
  {
   "cell_type": "code",
   "execution_count": 25,
   "metadata": {},
   "outputs": [
    {
     "name": "stdout",
     "output_type": "stream",
     "text": [
      "Sua aproximação foi de: \n"
     ]
    },
    {
     "data": {
      "text/latex": [
       "$\\displaystyle 1.37726959183879$"
      ],
      "text/plain": [
       "1.37726959183879"
      ]
     },
     "execution_count": 25,
     "metadata": {},
     "output_type": "execute_result"
    }
   ],
   "source": [
    "print(\"Sua aproximação foi de: \")\n",
    "sp.simplify(integral)"
   ]
  },
  {
   "cell_type": "code",
   "execution_count": 26,
   "metadata": {},
   "outputs": [],
   "source": [
    "x = sp.Symbol('x')\n",
    "integral_real = sp.integrate(funcao_fx(x), (x, intervalo_1, intervalo_2))"
   ]
  },
  {
   "cell_type": "code",
   "execution_count": 27,
   "metadata": {},
   "outputs": [
    {
     "name": "stdout",
     "output_type": "stream",
     "text": [
      "Sua integral real tem valor de:\n"
     ]
    },
    {
     "data": {
      "text/latex": [
       "$\\displaystyle 1.37718308902015$"
      ],
      "text/plain": [
       "1.37718308902015"
      ]
     },
     "execution_count": 27,
     "metadata": {},
     "output_type": "execute_result"
    }
   ],
   "source": [
    "# Calcula o valor da integral sem usar nenhum método de aproximação\n",
    "print(\"Sua integral real tem valor de:\")\n",
    "sp.simplify(integral_real)"
   ]
  },
  {
   "cell_type": "code",
   "execution_count": 28,
   "metadata": {},
   "outputs": [
    {
     "name": "stdout",
     "output_type": "stream",
     "text": [
      "O erro da aproximação foi de: 0.0000865028186347594\n"
     ]
    }
   ],
   "source": [
    "erro = integral - integral_real\n",
    "print(\"O erro da aproximação foi de:\", format(erro, '9f'))"
   ]
  }
 ],
 "metadata": {
  "kernelspec": {
   "display_name": "Python 3",
   "language": "python",
   "name": "python3"
  },
  "language_info": {
   "codemirror_mode": {
    "name": "ipython",
    "version": 3
   },
   "file_extension": ".py",
   "mimetype": "text/x-python",
   "name": "python",
   "nbconvert_exporter": "python",
   "pygments_lexer": "ipython3",
   "version": "3.10.6"
  },
  "orig_nbformat": 4,
  "vscode": {
   "interpreter": {
    "hash": "916dbcbb3f70747c44a77c7bcd40155683ae19c65e1c03b4aa3499c5328201f1"
   }
  }
 },
 "nbformat": 4,
 "nbformat_minor": 2
}
